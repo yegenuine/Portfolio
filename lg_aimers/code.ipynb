{
 "cells": [
  {
   "cell_type": "markdown",
   "id": "212640ec-511d-4306-a417-df1ffc169f20",
   "metadata": {},
   "source": [
    "# 0. 개발 환경 및 라이브러리 버전"
   ]
  },
  {
   "cell_type": "code",
   "execution_count": 1,
   "id": "7105a27d-0905-4d05-a0cd-2d2f0dee7bfb",
   "metadata": {},
   "outputs": [
    {
     "name": "stdout",
     "output_type": "stream",
     "text": [
      "Operating System: Darwin 22.5.0\n",
      "Python Version: 3.11.5 (main, Sep 11 2023, 08:31:25) [Clang 14.0.6 ]\n"
     ]
    }
   ],
   "source": [
    "import platform\n",
    "import sys\n",
    "\n",
    "print(f\"Operating System: {platform.system()} {platform.release()}\")\n",
    "print(f\"Python Version: {sys.version}\")"
   ]
  },
  {
   "cell_type": "code",
   "execution_count": 8,
   "id": "69255dce",
   "metadata": {},
   "outputs": [
    {
     "name": "stdout",
     "output_type": "stream",
     "text": [
      "Requirement already satisfied: alembic==1.14.1 in ./venv/lib/python3.11/site-packages (from -r requirements.txt (line 1)) (1.14.1)\n",
      "Requirement already satisfied: appnope==0.1.4 in ./venv/lib/python3.11/site-packages (from -r requirements.txt (line 2)) (0.1.4)\n",
      "Requirement already satisfied: asttokens==3.0.0 in ./venv/lib/python3.11/site-packages (from -r requirements.txt (line 3)) (3.0.0)\n",
      "Requirement already satisfied: catboost==1.2.7 in ./venv/lib/python3.11/site-packages (from -r requirements.txt (line 4)) (1.2.7)\n",
      "Requirement already satisfied: colorlog==6.9.0 in ./venv/lib/python3.11/site-packages (from -r requirements.txt (line 5)) (6.9.0)\n",
      "Requirement already satisfied: comm==0.2.2 in ./venv/lib/python3.11/site-packages (from -r requirements.txt (line 6)) (0.2.2)\n",
      "Requirement already satisfied: contourpy==1.3.1 in ./venv/lib/python3.11/site-packages (from -r requirements.txt (line 7)) (1.3.1)\n",
      "Requirement already satisfied: cycler==0.12.1 in ./venv/lib/python3.11/site-packages (from -r requirements.txt (line 8)) (0.12.1)\n",
      "Requirement already satisfied: debugpy==1.8.12 in ./venv/lib/python3.11/site-packages (from -r requirements.txt (line 9)) (1.8.12)\n",
      "Requirement already satisfied: decorator==5.2.1 in ./venv/lib/python3.11/site-packages (from -r requirements.txt (line 10)) (5.2.1)\n",
      "Requirement already satisfied: executing==2.2.0 in ./venv/lib/python3.11/site-packages (from -r requirements.txt (line 11)) (2.2.0)\n",
      "Requirement already satisfied: fonttools==4.55.8 in ./venv/lib/python3.11/site-packages (from -r requirements.txt (line 12)) (4.55.8)\n",
      "Requirement already satisfied: graphviz==0.20.3 in ./venv/lib/python3.11/site-packages (from -r requirements.txt (line 13)) (0.20.3)\n",
      "Requirement already satisfied: ipykernel==6.29.5 in ./venv/lib/python3.11/site-packages (from -r requirements.txt (line 14)) (6.29.5)\n",
      "Requirement already satisfied: ipython==9.0.0 in ./venv/lib/python3.11/site-packages (from -r requirements.txt (line 15)) (9.0.0)\n",
      "Requirement already satisfied: ipython_pygments_lexers==1.1.1 in ./venv/lib/python3.11/site-packages (from -r requirements.txt (line 16)) (1.1.1)\n",
      "Requirement already satisfied: jedi==0.19.2 in ./venv/lib/python3.11/site-packages (from -r requirements.txt (line 17)) (0.19.2)\n",
      "Requirement already satisfied: joblib==1.4.2 in ./venv/lib/python3.11/site-packages (from -r requirements.txt (line 18)) (1.4.2)\n",
      "Requirement already satisfied: jupyter_client==8.6.3 in ./venv/lib/python3.11/site-packages (from -r requirements.txt (line 19)) (8.6.3)\n",
      "Requirement already satisfied: jupyter_core==5.7.2 in ./venv/lib/python3.11/site-packages (from -r requirements.txt (line 20)) (5.7.2)\n",
      "Requirement already satisfied: kiwisolver==1.4.8 in ./venv/lib/python3.11/site-packages (from -r requirements.txt (line 21)) (1.4.8)\n",
      "Requirement already satisfied: lightgbm==4.5.0 in ./venv/lib/python3.11/site-packages (from -r requirements.txt (line 22)) (4.5.0)\n",
      "Requirement already satisfied: Mako==1.3.9 in ./venv/lib/python3.11/site-packages (from -r requirements.txt (line 23)) (1.3.9)\n",
      "Requirement already satisfied: MarkupSafe==3.0.2 in ./venv/lib/python3.11/site-packages (from -r requirements.txt (line 24)) (3.0.2)\n",
      "Requirement already satisfied: matplotlib==3.10.0 in ./venv/lib/python3.11/site-packages (from -r requirements.txt (line 25)) (3.10.0)\n",
      "Requirement already satisfied: matplotlib-inline==0.1.7 in ./venv/lib/python3.11/site-packages (from -r requirements.txt (line 26)) (0.1.7)\n",
      "Requirement already satisfied: narwhals==1.25.2 in ./venv/lib/python3.11/site-packages (from -r requirements.txt (line 27)) (1.25.2)\n",
      "Requirement already satisfied: nest-asyncio==1.6.0 in ./venv/lib/python3.11/site-packages (from -r requirements.txt (line 28)) (1.6.0)\n",
      "Requirement already satisfied: numpy==1.26.4 in ./venv/lib/python3.11/site-packages (from -r requirements.txt (line 29)) (1.26.4)\n",
      "Requirement already satisfied: optuna==4.2.1 in ./venv/lib/python3.11/site-packages (from -r requirements.txt (line 30)) (4.2.1)\n",
      "Requirement already satisfied: packaging==24.2 in ./venv/lib/python3.11/site-packages (from -r requirements.txt (line 31)) (24.2)\n",
      "Requirement already satisfied: pandas==2.2.3 in ./venv/lib/python3.11/site-packages (from -r requirements.txt (line 32)) (2.2.3)\n",
      "Requirement already satisfied: parso==0.8.4 in ./venv/lib/python3.11/site-packages (from -r requirements.txt (line 33)) (0.8.4)\n",
      "Requirement already satisfied: pexpect==4.9.0 in ./venv/lib/python3.11/site-packages (from -r requirements.txt (line 34)) (4.9.0)\n",
      "Requirement already satisfied: pillow==11.1.0 in ./venv/lib/python3.11/site-packages (from -r requirements.txt (line 35)) (11.1.0)\n",
      "Requirement already satisfied: platformdirs==4.3.6 in ./venv/lib/python3.11/site-packages (from -r requirements.txt (line 36)) (4.3.6)\n",
      "Requirement already satisfied: plotly==6.0.0 in ./venv/lib/python3.11/site-packages (from -r requirements.txt (line 37)) (6.0.0)\n",
      "Requirement already satisfied: prompt_toolkit==3.0.50 in ./venv/lib/python3.11/site-packages (from -r requirements.txt (line 38)) (3.0.50)\n",
      "Requirement already satisfied: psutil==7.0.0 in ./venv/lib/python3.11/site-packages (from -r requirements.txt (line 39)) (7.0.0)\n",
      "Requirement already satisfied: ptyprocess==0.7.0 in ./venv/lib/python3.11/site-packages (from -r requirements.txt (line 40)) (0.7.0)\n",
      "Requirement already satisfied: pure_eval==0.2.3 in ./venv/lib/python3.11/site-packages (from -r requirements.txt (line 41)) (0.2.3)\n",
      "Requirement already satisfied: Pygments==2.19.1 in ./venv/lib/python3.11/site-packages (from -r requirements.txt (line 42)) (2.19.1)\n",
      "Requirement already satisfied: pyparsing==3.2.1 in ./venv/lib/python3.11/site-packages (from -r requirements.txt (line 43)) (3.2.1)\n",
      "Requirement already satisfied: python-dateutil==2.9.0.post0 in ./venv/lib/python3.11/site-packages (from -r requirements.txt (line 44)) (2.9.0.post0)\n",
      "Requirement already satisfied: pytz==2025.1 in ./venv/lib/python3.11/site-packages (from -r requirements.txt (line 45)) (2025.1)\n",
      "Requirement already satisfied: PyYAML==6.0.2 in ./venv/lib/python3.11/site-packages (from -r requirements.txt (line 46)) (6.0.2)\n",
      "Requirement already satisfied: pyzmq==26.2.1 in ./venv/lib/python3.11/site-packages (from -r requirements.txt (line 47)) (26.2.1)\n",
      "Requirement already satisfied: scikit-learn==1.6.1 in ./venv/lib/python3.11/site-packages (from -r requirements.txt (line 48)) (1.6.1)\n",
      "Requirement already satisfied: scipy==1.15.1 in ./venv/lib/python3.11/site-packages (from -r requirements.txt (line 49)) (1.15.1)\n",
      "Requirement already satisfied: six==1.17.0 in ./venv/lib/python3.11/site-packages (from -r requirements.txt (line 50)) (1.17.0)\n",
      "Requirement already satisfied: SQLAlchemy==2.0.38 in ./venv/lib/python3.11/site-packages (from -r requirements.txt (line 51)) (2.0.38)\n",
      "Requirement already satisfied: stack-data==0.6.3 in ./venv/lib/python3.11/site-packages (from -r requirements.txt (line 52)) (0.6.3)\n",
      "Requirement already satisfied: threadpoolctl==3.5.0 in ./venv/lib/python3.11/site-packages (from -r requirements.txt (line 53)) (3.5.0)\n",
      "Requirement already satisfied: tornado==6.4.2 in ./venv/lib/python3.11/site-packages (from -r requirements.txt (line 54)) (6.4.2)\n",
      "Requirement already satisfied: tqdm==4.67.1 in ./venv/lib/python3.11/site-packages (from -r requirements.txt (line 55)) (4.67.1)\n",
      "Requirement already satisfied: traitlets==5.14.3 in ./venv/lib/python3.11/site-packages (from -r requirements.txt (line 56)) (5.14.3)\n",
      "Requirement already satisfied: typing_extensions==4.12.2 in ./venv/lib/python3.11/site-packages (from -r requirements.txt (line 57)) (4.12.2)\n",
      "Requirement already satisfied: tzdata==2025.1 in ./venv/lib/python3.11/site-packages (from -r requirements.txt (line 58)) (2025.1)\n",
      "Requirement already satisfied: wcwidth==0.2.13 in ./venv/lib/python3.11/site-packages (from -r requirements.txt (line 59)) (0.2.13)\n",
      "Requirement already satisfied: xgboost==2.1.3 in ./venv/lib/python3.11/site-packages (from -r requirements.txt (line 60)) (2.1.3)\n",
      "\n",
      "\u001b[1m[\u001b[0m\u001b[34;49mnotice\u001b[0m\u001b[1;39;49m]\u001b[0m\u001b[39;49m A new release of pip is available: \u001b[0m\u001b[31;49m23.2.1\u001b[0m\u001b[39;49m -> \u001b[0m\u001b[32;49m25.0.1\u001b[0m\n",
      "\u001b[1m[\u001b[0m\u001b[34;49mnotice\u001b[0m\u001b[1;39;49m]\u001b[0m\u001b[39;49m To update, run: \u001b[0m\u001b[32;49mpip install --upgrade pip\u001b[0m\n"
     ]
    }
   ],
   "source": [
    "!pip install -r requirements.txt"
   ]
  },
  {
   "cell_type": "code",
   "execution_count": 21,
   "id": "efff5bbf-87ef-431e-8956-321e6623aaea",
   "metadata": {},
   "outputs": [],
   "source": [
    "# !pip freeze"
   ]
  },
  {
   "cell_type": "markdown",
   "id": "efdedc4e",
   "metadata": {},
   "source": [
    "numpy==1.26.4  \n",
    "pandas==2.2.3  \n",
    "scikit-learn==1.6.1  \n",
    "xgboost==2.1.3  \n",
    "lightgbm==4.5.0  \n",
    "catboost==1.2.7  "
   ]
  },
  {
   "cell_type": "markdown",
   "id": "3267bd03-b0bc-477a-8c38-10bd529af2db",
   "metadata": {},
   "source": [
    "# 1. 함수 정의"
   ]
  },
  {
   "cell_type": "markdown",
   "id": "2a91a68a-65d8-4337-9ac0-e04811cc95df",
   "metadata": {},
   "source": [
    "**main 함수에 사용되는 함수를 정의하는 코드**입니다.  **main 함수는 아래 '2. Main 함수 실행'에서 확인**하실 수 있습니다.  \n",
    "  \n",
    "기본적으로 Seed 하나당 XGBoost 모델의 5-fold cross-validation 한 결과를 확인할 수 있도록 작성했고,  \n",
    "최종적으로 선택한 submission 파일은 Seed 5개로 시드 앙상블하여 제출했습니다.  \n",
    "  \n",
    "모델 앙상블 실험을 위해 XGBoost, LightGBM, CatBoost를 선택할 수 있도록 작성되어 있으며,  \n",
    "Seed Number는 팀원들이 임의로 선택, 하이퍼 파라미터는 optuna를 여러 번 활용해 채택한 결과입니다."
   ]
  },
  {
   "cell_type": "markdown",
   "id": "2763aa15-2994-472c-b47b-22789cbfc373",
   "metadata": {},
   "source": [
    "## 1-0. Config"
   ]
  },
  {
   "cell_type": "code",
   "execution_count": 9,
   "id": "c5dd49d1-b712-45cd-9556-9f5147835dc7",
   "metadata": {},
   "outputs": [],
   "source": [
    "import sys\n",
    "import os\n",
    "import random\n",
    "from datetime import datetime\n",
    "import time\n",
    "\n",
    "import numpy as np\n",
    "import pandas as pd\n",
    "from sklearn.model_selection import StratifiedKFold\n",
    "from sklearn.metrics import roc_auc_score\n",
    "from sklearn.preprocessing import (\n",
    "    OrdinalEncoder,\n",
    "    TargetEncoder\n",
    ")\n",
    "\n",
    "from xgboost import XGBClassifier\n",
    "from lightgbm import LGBMClassifier\n",
    "from catboost import CatBoostClassifier"
   ]
  },
  {
   "cell_type": "markdown",
   "id": "9da5a48c-e80d-42f5-8b8c-845dc8b7c2ff",
   "metadata": {},
   "source": [
    "## 1-1. set_seed"
   ]
  },
  {
   "cell_type": "code",
   "execution_count": 10,
   "id": "8d9674fe-1844-4666-afbf-d8f9b583288f",
   "metadata": {},
   "outputs": [],
   "source": [
    "def set_seed(seed):\n",
    "    random.seed(seed)                      # Python 기본 random 모듈의 시드 고정\n",
    "    np.random.seed(seed)                   # NumPy 난수 생성기 시드 고정\n",
    "\n",
    "    os.environ['PYTHONHASHSEED'] = str(seed)  # Python 해시 함수 시드 고정 (Python >= 3.3)\n",
    "\n",
    "    try:\n",
    "        import torch\n",
    "        torch.manual_seed(seed)            # PyTorch CPU 시드 고정\n",
    "        if torch.cuda.is_available():\n",
    "            torch.cuda.manual_seed(seed)   # PyTorch GPU 시드 고정\n",
    "            torch.cuda.manual_seed_all(seed)  # PyTorch 모든 GPU 시드 고정\n",
    "        torch.backends.cudnn.deterministic = True  # CUDNN을 결정적으로 설정\n",
    "        torch.backends.cudnn.benchmark = False     # 성능에 영향을 줄 수 있음\n",
    "    except ImportError:\n",
    "        pass  # PyTorch가 설치되어 있지 않은 경우 생략\n",
    "\n",
    "    try:\n",
    "        import tensorflow as tf\n",
    "        tf.random.set_seed(seed)           # TensorFlow 시드 고정\n",
    "    except ImportError:\n",
    "        pass  # TensorFlow가 설치되어 있지 않은 경우 생략"
   ]
  },
  {
   "cell_type": "markdown",
   "id": "2e4d6f34-20cd-401f-ae8a-d3740c8c397d",
   "metadata": {},
   "source": [
    "여러 라이브러리의 Seed를 고정하는 함수입니다."
   ]
  },
  {
   "cell_type": "markdown",
   "id": "eabdabfb-1670-4ee0-a265-8a294be0f53d",
   "metadata": {},
   "source": [
    "## 1-2. read_data"
   ]
  },
  {
   "cell_type": "code",
   "execution_count": 11,
   "id": "86e1fef8-10a2-4035-9652-70737da34cb4",
   "metadata": {},
   "outputs": [],
   "source": [
    "def read_data(data_path):\n",
    "    df_train = pd.read_csv(data_path + 'train.csv')\n",
    "    df_test = pd.read_csv(data_path + 'test.csv')\n",
    "    df_submit = pd.read_csv(data_path + 'sample_submission.csv')\n",
    "\n",
    "    return df_train, df_test, df_submit"
   ]
  },
  {
   "cell_type": "markdown",
   "id": "40c436dc-d226-4e99-92e2-b82988c5dff2",
   "metadata": {},
   "source": [
    "train, test, sample_submission 데이터 파일을 읽어옵니다."
   ]
  },
  {
   "cell_type": "markdown",
   "id": "bb909ef8-6882-4f6b-8d34-9a65a680b020",
   "metadata": {},
   "source": [
    "## 1-3. feature_engineering"
   ]
  },
  {
   "cell_type": "code",
   "execution_count": 12,
   "id": "95679100-ba54-447f-9a1b-5ae5bdab4bce",
   "metadata": {},
   "outputs": [],
   "source": [
    "def feature_engineering(df_input):\n",
    "    df = df_input.copy()\n",
    "\n",
    "    '''\n",
    "    통합 전처리\n",
    "    '''\n",
    "\n",
    "    # '시술 당시 나이'변수 수치형으로 변환\n",
    "    df['시술 당시 나이'] = df['시술 당시 나이'].map({\n",
    "        '만18-34세':1, '만35-37세':2, '만38-39세':3, '만40-42세':4,\n",
    "        '만43-44세':5, '만45-50세':6, '알 수 없음':7\n",
    "    })\n",
    "\n",
    "    # '~횟수'변수 수치형으로 변환\n",
    "    count_features = [feat for feat in df.columns if '횟수' in feat]\n",
    "    for feat in count_features:\n",
    "        df[feat] = df[feat].apply(lambda val : int(val[0])) # n회/n회 이상 (str) -> n (int)\n",
    "\n",
    "    # '정자,난자 기증자 나이'변수 수치형으로 변환\n",
    "    for feat in ['난자 기증자 나이', '정자 기증자 나이']:\n",
    "        df[feat] = df[feat].apply(lambda val : int(val[1:3]) if val[0] == '만' else -1)\n",
    "\n",
    "    # 배아 생성 주요 이유 다중 선택 변환 (5개 더미 컬럼 생성)\n",
    "    categories = ['현재 시술용', '배아 저장용', '기증용', '난자 저장용']\n",
    "    for category in categories:\n",
    "        df[f'배아 이유_{category}'] = df['배아 생성 주요 이유'].apply(lambda x: 1 if pd.notna(x) and category in x else 0)\n",
    "\n",
    "    # '출산 성공률', '임신 성공률' 파생변수 생성\n",
    "    df['출산 성공률'] = df['총 출산 횟수'] / df['총 임신 횟수']\n",
    "    df['임신 성공률'] = df['총 임신 횟수'] / df['총 시술 횟수']\n",
    "    \n",
    "    '''\n",
    "    IVF / DI 개별 전처리\n",
    "    '''\n",
    "\n",
    "    ivf_df = df[df['시술 유형'] == 'IVF'].copy()\n",
    "    di_df = df[df['시술 유형'] == 'DI'].copy()\n",
    "\n",
    "    # DI인 경우 남성 주 ~ 부부 부 불임 원인 flip\n",
    "    for feat in ['남성 주 불임 원인', '남성 부 불임 원인', '여성 주 불임 원인', '여성 부 불임 원인', '부부 주 불임 원인', '부부 부 불임 원인', '불임 원인 - 정자 농도']:\n",
    "        di_df[feat] = di_df[feat].apply(lambda x: 1-x)\n",
    "\n",
    "    # 확정 결측치 처리\n",
    "    for feat in ['PGS 시술 여부', 'PGD 시술 여부', '착상 전 유전 검사 사용 여부']:\n",
    "        ivf_df[feat] = ivf_df[feat].fillna(0)\n",
    "\n",
    "    df[df['시술 유형'] == 'IVF'] = ivf_df\n",
    "    df[df['시술 유형'] == 'DI'] = di_df\n",
    "\n",
    "    return df"
   ]
  },
  {
   "cell_type": "markdown",
   "id": "cb2a5268-b3e6-4621-a5bd-6afd158f0acb",
   "metadata": {},
   "source": [
    "1. **'시술 당시 나이' 변수 수치형 변환 :** 오름차순으로 정수 값 치환\n",
    "2. **'횟수' 변수 수치형 변환 (총 임신 횟수 등) :** 정수값만 추출\n",
    "3. **'정자, 난자 기증자 나이' 변수 수치형으로 변환 :** 정수값만 추출\n",
    "4. **'배아 생성 주요 이유' 변수 dummy variable 변환 :** '연구용'의 경우 관측치 개수가 매우 적어서 따로 생성하지 않음\n",
    "5. **'출산 성공률', '임신 성공률' 파생 변수 생성 :** 행 내에서 '총 출산 횟수', '총 임신 횟수', '총 시술 횟수' 활용 계산\n",
    "6. **'불임 원인' 변수들 중 IVF와 DI에서 target 분포가 다른 경우 flip :** 0 -> 1, 1 -> 0\n",
    "7. **'PGS 시술 여부', 'PGD 시술 여부', '착상 전 유전 검사 사용 여부' 결측 처리 :** IVF에만 해당하는 변수들이므로, DI는 '해당없음', IVF는 '시술이나 사용하지 않음'의 의미로 다르게 구분하기 위해 DI는 -1, IVF는 0으로 처리"
   ]
  },
  {
   "cell_type": "markdown",
   "id": "e4f55df2-b4a2-49e9-86ba-6a4475f216a4",
   "metadata": {},
   "source": [
    "## 1-4. make_feature_lists"
   ]
  },
  {
   "cell_type": "code",
   "execution_count": null,
   "id": "a2e20c80-60f6-47b6-8396-2bb0862b2f17",
   "metadata": {},
   "outputs": [],
   "source": [
    "def make_feature_lists(df):\n",
    "    base_features = []\n",
    "    cat_features = []\n",
    "    num_features = []\n",
    "\n",
    "    removal_features = {'신선 배아 사용 여부', '동결 배아 사용 여부'} # '신선 배아 사용 여부', '동결 배아 사용 여부' drop\n",
    "    removal_features |= set(df.columns[df.nunique(dropna=False) == 1])  # 모든 row가 다 결측 or 한가지 값인 변수 제거\n",
    "\n",
    "    for col in df.columns:\n",
    "        if col == 'ID' or col == '임신 성공 여부':\n",
    "            continue\n",
    "\n",
    "        if col in removal_features:\n",
    "            continue\n",
    "\n",
    "        base_features.append(col)\n",
    "        if df[col].dtype == 'object':\n",
    "            cat_features.append(col)\n",
    "        else:\n",
    "            num_features.append(col)\n",
    "\n",
    "    return base_features, cat_features, num_features, removal_features"
   ]
  },
  {
   "cell_type": "markdown",
   "id": "2f5bfbad-6b45-4e3c-8aa4-7de44147a81b",
   "metadata": {},
   "source": [
    "변수 선택, encoding, fillna, CatBoost 모델 인자 등으로 사용하기 위한 변수 리스트 생성 함수입니다."
   ]
  },
  {
   "cell_type": "markdown",
   "id": "60123288-73d3-45e3-a75d-4f1f4a6e7772",
   "metadata": {},
   "source": [
    "## 1-5. encoding_cat_feautres"
   ]
  },
  {
   "cell_type": "code",
   "execution_count": null,
   "id": "9a75d78e-c90f-41d0-bf06-f65f7accc86d",
   "metadata": {},
   "outputs": [],
   "source": [
    "def encoding_cat_features(df_train, df_test, cat_features, config_params, model_name, seed):\n",
    "    target = '임신 성공 여부'\n",
    "    train_encoded, test_encoded = df_train.copy(), df_test.copy()\n",
    "\n",
    "    # catboost는 모델 내 자체 encoder 활용 \n",
    "    if model_name == 'CB':\n",
    "        return train_encoded, test_encoded\n",
    "\n",
    "    if model_name == 'XGB':\n",
    "        model_encoder = config_params['xgb_encoder']\n",
    "    elif model_name == 'LGBM':\n",
    "        model_encoder = config_params['lgb_encoder']\n",
    "    else:\n",
    "        model_encoder = None\n",
    "\n",
    "    match model_encoder:\n",
    "        case 'ordinal':\n",
    "            encoder = OrdinalEncoder(handle_unknown='use_encoded_value', unknown_value=-1)\n",
    "            train_encoded[cat_features] = encoder.fit_transform(df_train[cat_features])\n",
    "        case 'target':\n",
    "            encoder = TargetEncoder(random_state=seed)\n",
    "            train_encoded[cat_features] = encoder.fit_transform(df_train[cat_features], df_train[target])\n",
    "        case _:\n",
    "            print(\"Error: Invalid Encoder Name\")\n",
    "            raise\n",
    "\n",
    "    test_encoded[cat_features] = encoder.transform(df_test[cat_features])\n",
    "\n",
    "    return train_encoded, test_encoded"
   ]
  },
  {
   "cell_type": "markdown",
   "id": "c2ce08ee-6170-4a08-9ffd-c343a12b339c",
   "metadata": {},
   "source": [
    "모델별 encoder 선택 (ordinal , target) 함수입니다. "
   ]
  },
  {
   "cell_type": "markdown",
   "id": "f0db39cc",
   "metadata": {},
   "source": [
    "## 1-6. filling_missing_values"
   ]
  },
  {
   "cell_type": "code",
   "execution_count": null,
   "id": "b5a5c1a7-1cda-44b9-b361-5a72a82b5a27",
   "metadata": {},
   "outputs": [],
   "source": [
    "def filling_missing_values(df_input, cat_features, num_features, model_name):\n",
    "    df = df_input.copy()\n",
    "    \n",
    "    # catboost는 범주형 변수 UNK 처리, 나머지 모델들은 인코딩한 뒤 -1로 처리 \n",
    "    if model_name == 'CB':\n",
    "        for cat_feature in cat_features:\n",
    "            df[cat_feature] = df[cat_feature].fillna('UNK')\n",
    "            df[cat_feature] = df[cat_feature].astype(str)\n",
    "\n",
    "    for num_feature in num_features:\n",
    "        df[num_feature] = df[num_feature].fillna(-1)\n",
    "\n",
    "    return df"
   ]
  },
  {
   "cell_type": "markdown",
   "id": "da89a449",
   "metadata": {},
   "source": [
    "결측치는 유효하지 않은 값 (범주형 변수: UNK, 수치형 변수: -1)으로 처리하여 실제 관측치와 구분했습니다."
   ]
  },
  {
   "cell_type": "markdown",
   "id": "45a70613",
   "metadata": {},
   "source": [
    "## 1-7. model_kfold "
   ]
  },
  {
   "cell_type": "code",
   "execution_count": 16,
   "id": "fbef1f8b-db2a-42d0-9fe2-ab7914946771",
   "metadata": {},
   "outputs": [],
   "source": [
    "def model_kfold(df_input, base_features, cat_features, config_params, model_params, model_name, seed):\n",
    "    df = df_input.copy()\n",
    "    target = '임신 성공 여부'\n",
    "\n",
    "    skf = StratifiedKFold(n_splits=config_params['k_fold'], shuffle=True, random_state=seed)\n",
    "    models = []\n",
    "    scores = []\n",
    "\n",
    "    for k_fold, (train_idx, valid_idx) in enumerate(skf.split(df[base_features], df[target])):\n",
    "        X_train, y_train = df[base_features].iloc[train_idx], df[target].iloc[train_idx].astype(int)\n",
    "        X_valid, y_valid = df[base_features].iloc[valid_idx], df[target].iloc[valid_idx].astype(int)\n",
    "\n",
    "        match model_name:\n",
    "            case 'CB':\n",
    "                model = CatBoostClassifier(**model_params)\n",
    "                model.fit(\n",
    "                    X_train, y_train,\n",
    "                    eval_set=[(X_valid, y_valid)],\n",
    "                    cat_features=cat_features,\n",
    "                )\n",
    "            case 'XGB':\n",
    "                model = XGBClassifier(**model_params)\n",
    "                model.fit(\n",
    "                    X_train, y_train,\n",
    "                    eval_set=[(X_valid, y_valid)],\n",
    "                    verbose=False\n",
    "                )\n",
    "            case 'LGBM':\n",
    "                model = LGBMClassifier(**model_params)\n",
    "                model.fit(\n",
    "                    X_train, y_train,\n",
    "                    eval_set=[(X_valid, y_valid)],\n",
    "                )\n",
    "            case _:\n",
    "                print(\"Invalid Model Name\")\n",
    "                raise\n",
    "\n",
    "        models.append(model)\n",
    "\n",
    "        # print performances\n",
    "        print('[Valid] ', end=' ')\n",
    "        y_pred = model.predict_proba(X_valid)[:,1]\n",
    "        score = roc_auc_score(y_valid, y_pred)\n",
    "        print(f'Fold #{k_fold + 1} Score: {score:.4f}')\n",
    "\n",
    "        scores.append(score)\n",
    "\n",
    "    print(f'Avg. Score of validset: {np.mean(scores)}')\n",
    "    print(f'Std. Score of validset: {np.std(scores)}')\n",
    "    print()\n",
    "\n",
    "    return models"
   ]
  },
  {
   "cell_type": "markdown",
   "id": "635fa77a",
   "metadata": {},
   "source": [
    "k-fold cross-validation으로 모델을 학습한 뒤, valid score의 평균과 표준편차를 출력합니다.  \n",
    "Stratified K-fold를 선택하여 fold별로 target 분포를 동일하게 추출했습니다."
   ]
  },
  {
   "cell_type": "markdown",
   "id": "9f21f45a",
   "metadata": {},
   "source": [
    "## 1-8. predict_test"
   ]
  },
  {
   "cell_type": "code",
   "execution_count": 17,
   "id": "11d36a5f-59c9-43c8-aa3f-8eae3cd2eaf7",
   "metadata": {},
   "outputs": [],
   "source": [
    "def predict_test(models, df_input, base_features):\n",
    "    df = df_input.copy()\n",
    "\n",
    "    X_test = df[base_features]\n",
    "    y_probs = np.zeros((X_test.shape[0], 2))\n",
    "\n",
    "    for i, model in enumerate(models):\n",
    "        y_probs += model.predict_proba(X_test) / len(models)\n",
    "\n",
    "    return y_probs"
   ]
  },
  {
   "cell_type": "markdown",
   "id": "9b6833a6",
   "metadata": {},
   "source": [
    "test 데이터를 fold별 모델으로 추론한 뒤, 그 평균으로 임신 성공 확률을 계산합니다."
   ]
  },
  {
   "cell_type": "markdown",
   "id": "38cb246b",
   "metadata": {},
   "source": [
    "## 1-9. make_submission"
   ]
  },
  {
   "cell_type": "code",
   "execution_count": 18,
   "id": "3d8772aa-bfd0-4b81-b5cf-3eb3af8a01f7",
   "metadata": {},
   "outputs": [],
   "source": [
    "def make_submission(y_probs, df_submit):\n",
    "    result_path = 'Results'\n",
    "\n",
    "    if not os.path.exists(result_path):\n",
    "        os.makedirs(result_path)\n",
    "\n",
    "    # 현재 날짜와 시간을 얻습니다.\n",
    "    now = datetime.now()\n",
    "\n",
    "    month = now.month\n",
    "    day = now.day\n",
    "    hour = now.hour\n",
    "    minute = now.minute\n",
    "\n",
    "    submission_time = f\"{month:02d}{day:02d}_{hour:02d}{minute:02d}\"\n",
    "\n",
    "    y_prob = np.zeros((df_submit.shape[0], 2))\n",
    "\n",
    "    for y_prob_model in y_probs:\n",
    "        y_prob += y_prob_model / len(y_probs)\n",
    "\n",
    "    # 제출 파일 작성\n",
    "    df_submit['probability'] = y_prob[:, 1]\n",
    "\n",
    "    # 제출 파일 저장\n",
    "    df_submit.to_csv(f\"./{result_path}/submission_{submission_time}.csv\", index=False)"
   ]
  },
  {
   "cell_type": "markdown",
   "id": "ee23699a",
   "metadata": {},
   "source": [
    "시드별 임신 성공확률의 평균으로 최종 probability를 계산합니다.  \n",
    "submission 파일의 버전 관리를 위해 실행 시간을 파일명에 함께 기재합니다."
   ]
  },
  {
   "cell_type": "markdown",
   "id": "10f4c1dd",
   "metadata": {},
   "source": [
    "# 2. main 함수 실행 "
   ]
  },
  {
   "cell_type": "markdown",
   "id": "c58944fa",
   "metadata": {},
   "source": [
    "## 2-1. main"
   ]
  },
  {
   "cell_type": "code",
   "execution_count": 19,
   "id": "2f233ddd-5343-4fa1-8b3b-e9d2011bdf04",
   "metadata": {},
   "outputs": [],
   "source": [
    "def main(config_params, model_param_dict):\n",
    "    start_time = time.time()  # 시작 시간 기록\n",
    "\n",
    "    y_probs = []\n",
    "\n",
    "    for seed in config_params['seed_list']:\n",
    "        print('\\n'+'='*30)\n",
    "        print(f\"Seed Number : {seed}\")\n",
    "        print(\"=\"*30)\n",
    "        for model_name, model_params in model_param_dict.items():\n",
    "            print(f\"<Model : {model_name}>\")\n",
    "\n",
    "            # seed 고정\n",
    "            set_seed(seed)\n",
    "\n",
    "            # 데이터 셋 읽기\n",
    "            df_train, df_test, df_submit = read_data(config_params['data_path'])\n",
    "\n",
    "            # 데이터 전처리\n",
    "            df_train = feature_engineering(df_train)\n",
    "            df_test = feature_engineering(df_test)\n",
    "\n",
    "            base_features, cat_features, num_features, removal_features = make_feature_lists(df_train)\n",
    "\n",
    "            # 범주형 변수 인코딩\n",
    "            df_train, df_test = encoding_cat_features(df_train, df_test, cat_features, config_params, model_name, seed)\n",
    "\n",
    "            # 결측 처리\n",
    "            df_train = filling_missing_values(df_train, cat_features, num_features, model_name)\n",
    "            df_test = filling_missing_values(df_test, cat_features, num_features, model_name)\n",
    "\n",
    "            # train 데이터 학습\n",
    "            models = model_kfold(df_train, base_features, cat_features, config_params, model_params, model_name, seed)\n",
    "\n",
    "            # 제출 파일 생성\n",
    "            y_prob = predict_test(models, df_test, base_features)\n",
    "            y_probs.append(y_prob)\n",
    "\n",
    "    make_submission(y_probs, df_submit)\n",
    "\n",
    "    end_time = time.time()  # 종료 시간 기록\n",
    "    elapsed_time = end_time - start_time  # 총 실행 시간 계산\n",
    "\n",
    "    minutes, seconds = divmod(elapsed_time, 60)  # 분, 초로 변환\n",
    "    print(f\"총 실행 시간: {int(minutes)}분 {seconds:.2f}초\")  # 실행 시간 출력"
   ]
  },
  {
   "cell_type": "markdown",
   "id": "3f33e6af",
   "metadata": {},
   "source": [
    "seed_list, model_list를 순환하며 모델+시드 앙상블한 뒤 submission 파일을 생성합니다.  \n",
    "최종 제출 파일에는 XGBoost 모델 하나에 대한 5시드 앙상블을 진행했습니다."
   ]
  },
  {
   "cell_type": "markdown",
   "id": "d8d6df1e",
   "metadata": {},
   "source": [
    "## 2-2. main 함수 실행 "
   ]
  },
  {
   "cell_type": "code",
   "execution_count": 20,
   "id": "3d4b63c3-ec06-4135-8328-a980007b9ae6",
   "metadata": {},
   "outputs": [
    {
     "name": "stdout",
     "output_type": "stream",
     "text": [
      "\n",
      "==============================\n",
      "Seed Number : 777\n",
      "==============================\n",
      "<Model : XGB>\n",
      "[Valid]  Fold #1 Score: 0.7384\n",
      "[Valid]  Fold #2 Score: 0.7420\n",
      "[Valid]  Fold #3 Score: 0.7376\n",
      "[Valid]  Fold #4 Score: 0.7416\n",
      "[Valid]  Fold #5 Score: 0.7428\n",
      "Avg. Score of validset: 0.7404880968025566\n",
      "Std. Score of validset: 0.002063187912857618\n",
      "\n",
      "\n",
      "==============================\n",
      "Seed Number : 2\n",
      "==============================\n",
      "<Model : XGB>\n",
      "[Valid]  Fold #1 Score: 0.7420\n",
      "[Valid]  Fold #2 Score: 0.7388\n",
      "[Valid]  Fold #3 Score: 0.7392\n",
      "[Valid]  Fold #4 Score: 0.7423\n",
      "[Valid]  Fold #5 Score: 0.7380\n",
      "Avg. Score of validset: 0.7400497815215938\n",
      "Std. Score of validset: 0.00176950084224428\n",
      "\n",
      "\n",
      "==============================\n",
      "Seed Number : 14\n",
      "==============================\n",
      "<Model : XGB>\n",
      "[Valid]  Fold #1 Score: 0.7408\n",
      "[Valid]  Fold #2 Score: 0.7394\n",
      "[Valid]  Fold #3 Score: 0.7401\n",
      "[Valid]  Fold #4 Score: 0.7402\n",
      "[Valid]  Fold #5 Score: 0.7406\n",
      "Avg. Score of validset: 0.7402477093606528\n",
      "Std. Score of validset: 0.0004824819346555312\n",
      "\n",
      "\n",
      "==============================\n",
      "Seed Number : 63\n",
      "==============================\n",
      "<Model : XGB>\n",
      "[Valid]  Fold #1 Score: 0.7394\n",
      "[Valid]  Fold #2 Score: 0.7384\n",
      "[Valid]  Fold #3 Score: 0.7413\n",
      "[Valid]  Fold #4 Score: 0.7407\n",
      "[Valid]  Fold #5 Score: 0.7416\n",
      "Avg. Score of validset: 0.7402954986096031\n",
      "Std. Score of validset: 0.0012158551039369349\n",
      "\n",
      "\n",
      "==============================\n",
      "Seed Number : 2000\n",
      "==============================\n",
      "<Model : XGB>\n",
      "[Valid]  Fold #1 Score: 0.7381\n",
      "[Valid]  Fold #2 Score: 0.7406\n",
      "[Valid]  Fold #3 Score: 0.7423\n",
      "[Valid]  Fold #4 Score: 0.7395\n",
      "[Valid]  Fold #5 Score: 0.7406\n",
      "Avg. Score of validset: 0.7402266975981797\n",
      "Std. Score of validset: 0.0013729474099695947\n",
      "\n",
      "총 실행 시간: 35분 5.27초\n"
     ]
    }
   ],
   "source": [
    "if __name__ == \"__main__\":\n",
    "\n",
    "    config_params = {\n",
    "        'seed_list': [777, 2, 14, 63, 2000],\n",
    "        'data_path': \"./Data/\",\n",
    "        'k_fold': 5,\n",
    "        'models': ['XGB'],\n",
    "        # CatBoost : CB\n",
    "        # XGBoost : XGB\n",
    "        # LightGBM : LGBM\n",
    "        'xgb_encoder': 'ordinal', # ordinal / target\n",
    "        'lgb_encoder': 'target'\n",
    "    }\n",
    "\n",
    "    model_param_setting = {\n",
    "        'XGB': {\n",
    "            'n_estimators': 2357,\n",
    "            'learning_rate': 0.016535403312726182,\n",
    "            'max_depth': 7,\n",
    "            'subsample': 0.6887677799128866,\n",
    "            'colsample_bytree': 0.6879076928246035,\n",
    "            'reg_lambda': 0.28211678046980465,\n",
    "            'reg_alpha': 6.879354177483545,\n",
    "            'gamma': 2.413362122265103,\n",
    "            'objective': 'binary:logistic',\n",
    "            'scale_pos_weight': 1,\n",
    "            'verbosity': 0,\n",
    "        },\n",
    "        'LGBM': {\n",
    "            'n_estimators': 2290,\n",
    "            'learning_rate': 0.007317488794263521,\n",
    "            'max_depth': 8,\n",
    "            'subsample': 0.6704092605499218,\n",
    "            'colsample_bytree': 0.3607645380846825,\n",
    "            'reg_lambda': 0.5897801081491055,\n",
    "            'reg_alpha': 6.882099222744256,\n",
    "            'objective': 'binary',\n",
    "            'metric': 'auc',\n",
    "            'class_weight': 'balanced',\n",
    "            #'early_stopping_rounds': 50,\n",
    "            'verbose': -1,\n",
    "        },\n",
    "        'CB': {\n",
    "            'iterations': 1000,\n",
    "            'learning_rate': 0.03,\n",
    "            'depth': 6,\n",
    "            'objective': 'Logloss',\n",
    "            'auto_class_weights': 'Balanced',\n",
    "            'verbose': 0,\n",
    "        },\n",
    "    }\n",
    "\n",
    "    model_param_dict = dict()\n",
    "    for model_name in config_params['models']:\n",
    "        model_param_dict[model_name] = model_param_setting[model_name]\n",
    "\n",
    "    main(config_params, model_param_dict)"
   ]
  },
  {
   "cell_type": "markdown",
   "id": "cac15f97-9d17-4dd5-8841-c0f58a456060",
   "metadata": {},
   "source": [
    "seed_list = \\[777, 2, 14, 63, 2000\\]를 선택해 총 5개 시드에 대해 시드 앙상블 진행.  \n",
    "models = \\['XGB'\\]를 선택해 XGBoost 모델만 사용.  "
   ]
  },
  {
   "cell_type": "code",
   "execution_count": null,
   "id": "6c3b3e19-36e0-4901-9ff0-3186df8e8eaa",
   "metadata": {},
   "outputs": [],
   "source": []
  }
 ],
 "metadata": {
  "kernelspec": {
   "display_name": "Python 3 (ipykernel)",
   "language": "python",
   "name": "python3"
  },
  "language_info": {
   "codemirror_mode": {
    "name": "ipython",
    "version": 3
   },
   "file_extension": ".py",
   "mimetype": "text/x-python",
   "name": "python",
   "nbconvert_exporter": "python",
   "pygments_lexer": "ipython3",
   "version": "3.10.7"
  }
 },
 "nbformat": 4,
 "nbformat_minor": 5
}
